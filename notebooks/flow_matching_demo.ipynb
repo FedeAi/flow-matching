{
 "cells": [
  {
   "cell_type": "markdown",
   "metadata": {},
   "source": [
    "# This notebook demonstrates the Flow Matching process interactively."
   ]
  },
  {
   "cell_type": "code",
   "execution_count": null,
   "metadata": {},
   "outputs": [],
   "source": [
    "import torch\n",
    "import numpy as np\n",
    "import matplotlib.pyplot as plt\n",
    "from src.flow_matching import FlowMatching\n",
    "from src.utils import generate_dynamic_conditioning\n",
    "from src.visualization import visualize_flow_matching\n",
    "\n",
    "# Initialize model and data\n",
    "model = FlowMatching()\n",
    "target_data = model.generate_two_circles_targets()\n",
    "\n",
    "# Visualize the initial vector field\n",
    "visualize_flow_matching(model, target_data, step=0)"
   ]
  },
  {
   "cell_type": "code",
   "execution_count": null,
   "metadata": {},
   "outputs": [],
   "source": [
    "# You can add interactive cells to train the model and visualize the progress"
   ]
  }
 ],
 "metadata": {
  "language_info": {
   "name": "python"
  }
 },
 "nbformat": 4,
 "nbformat_minor": 2
}
